{
 "cells": [
  {
   "cell_type": "code",
   "execution_count": 104,
   "metadata": {},
   "outputs": [],
   "source": [
    "import nibabel as nib\n",
    "import numpy as np\n",
    "import os"
   ]
  },
  {
   "cell_type": "code",
   "execution_count": 105,
   "metadata": {
    "scrolled": true
   },
   "outputs": [
    {
     "name": "stdout",
     "output_type": "stream",
     "text": [
      "<class 'nibabel.nifti1.Nifti1Header'> object, endian='<'\n",
      "sizeof_hdr      : 348\n",
      "data_type       : b''\n",
      "db_name         : b''\n",
      "extents         : 0\n",
      "session_error   : 0\n",
      "regular         : b'r'\n",
      "dim_info        : 57\n",
      "dim             : [  3  88 512 512   1   1   1   1]\n",
      "intent_p1       : 0.0\n",
      "intent_p2       : 0.0\n",
      "intent_p3       : 0.0\n",
      "intent_code     : none\n",
      "datatype        : int16\n",
      "bitpix          : 16\n",
      "slice_start     : 0\n",
      "pixdim          : [1.    2.9   0.469 0.469 0.015 0.    0.    0.   ]\n",
      "vox_offset      : 0.0\n",
      "scl_slope       : nan\n",
      "scl_inter       : nan\n",
      "slice_end       : 0\n",
      "slice_code      : unknown\n",
      "xyzt_units      : 10\n",
      "cal_max         : 0.0\n",
      "cal_min         : 0.0\n",
      "slice_duration  : 0.0\n",
      "toffset         : 0.0\n",
      "glmax           : 0\n",
      "glmin           : 0\n",
      "descrip         : b'TE=3.6;Time=100755.247;phase=1'\n",
      "aux_file        : b''\n",
      "qform_code      : scanner\n",
      "sform_code      : scanner\n",
      "quatern_b       : 1.2347709e-10\n",
      "quatern_c       : -4.591598e-17\n",
      "quatern_d       : -0.00087266456\n",
      "qoffset_x       : -133.28143\n",
      "qoffset_y       : -120.24453\n",
      "qoffset_z       : -102.09784\n",
      "srow_x          : [   2.9      0.001   -0.    -133.281]\n",
      "srow_y          : [  -0.005    0.469   -0.    -120.245]\n",
      "srow_z          : [  -0.       0.       0.469 -102.098]\n",
      "intent_name     : b''\n",
      "magic           : b'n+1'\n"
     ]
    }
   ],
   "source": [
    "data_path = 'Z:/home/majumdes/Datasets/Prospective_PPG/affine_testing/1569365'\n",
    "\n",
    "with open('captk_affine.npy', 'rb') as f:\n",
    "    A = np.load(f)\n",
    "\n",
    "with open('orient.npy', 'rb') as f:\n",
    "    ornt = np.load(f)\n",
    "\n",
    "# open image\n",
    "image_path = os.path.join(data_path, 'T1_VIBE_SPAIR_PRESAG_4.nii.gz')\n",
    "image = nib.load(image_path)\n",
    "image_header = image.header\n",
    "print(image_header)"
   ]
  },
  {
   "cell_type": "code",
   "execution_count": 106,
   "metadata": {},
   "outputs": [],
   "source": [
    "# open mask_itk\n",
    "mask_itk_path = os.path.join(data_path, 'mask.nii.gz')\n",
    "mask_itk = nib.load(mask_itk_path)\n",
    "mask_itk_header = mask_itk.header\n",
    "\n",
    "# open mask captk\n",
    "mask_captk_path = os.path.join(data_path, 'mask_captk.nii.gz')\n",
    "mask_captk = nib.load(mask_captk_path)\n",
    "mask_captk_header = mask_captk.header\n",
    "# print(mask_captk_header)\n",
    "\n",
    "#open mask gandlf\n",
    "mask_gandlf_path = os.path.join(data_path, '1569365_seg.nii.gz')\n",
    "mask_gandlf = nib.load(mask_gandlf_path)\n",
    "mask_gandlf_header = mask_gandlf.header\n",
    "\n",
    "mask_itk_np = np.array(mask_itk.dataobj).astype(np.float64)\n",
    "mask_gandlf_np = np.array(mask_gandlf.dataobj).astype(np.float64)"
   ]
  },
  {
   "cell_type": "code",
   "execution_count": 107,
   "metadata": {},
   "outputs": [
    {
     "name": "stdout",
     "output_type": "stream",
     "text": [
      "Image affine: \n",
      "[[   2.9      0.001   -0.    -133.281]\n",
      " [  -0.005    0.469   -0.    -120.245]\n",
      " [  -0.       0.       0.469 -102.098]\n",
      " [   0.       0.       0.       1.   ]]\n",
      "CAPTK mask affine: \n",
      "[[  -2.9      0.       0.     119.436]\n",
      " [   0.      -0.469    0.     118.846]\n",
      " [   0.       0.       0.469 -102.098]\n",
      " [   0.       0.       0.       1.   ]]\n",
      "ITK mask affine: \n",
      "[[   2.9      0.001   -0.    -133.281]\n",
      " [  -0.005    0.469   -0.    -120.245]\n",
      " [  -0.       0.       0.469 -102.098]\n",
      " [   0.       0.       0.       1.   ]]\n",
      "gandlf mask affine: \n",
      "[[   2.9      0.001   -0.    -133.281]\n",
      " [  -0.005    0.469   -0.    -120.245]\n",
      " [  -0.       0.       0.469 -102.098]\n",
      " [   0.       0.       0.       1.   ]]\n"
     ]
    }
   ],
   "source": [
    "np.set_printoptions(precision=3, suppress=True)\n",
    "print(\"Image affine: \")\n",
    "print(image.affine)\n",
    "print(\"CAPTK mask affine: \")\n",
    "print(mask_captk.affine)\n",
    "print(\"ITK mask affine: \")\n",
    "print(mask_itk.affine)\n",
    "print(\"gandlf mask affine: \")\n",
    "print(mask_gandlf.affine)"
   ]
  },
  {
   "cell_type": "code",
   "execution_count": 108,
   "metadata": {},
   "outputs": [
    {
     "name": "stdout",
     "output_type": "stream",
     "text": [
      "Image pixdim: \n",
      "[1.    2.9   0.469 0.469 0.015 0.    0.    0.   ]\n",
      "CAPTK mask affine: \n",
      "[1.    2.9   0.469 0.469 0.    0.    0.    0.   ]\n",
      "ITK mask affine: \n",
      "[1.    2.9   0.469 0.469 0.    0.    0.    0.   ]\n",
      "gandlf mask affine: \n",
      "[1.    2.9   0.469 0.469 0.    0.    0.    0.   ]\n"
     ]
    }
   ],
   "source": [
    "print(\"Image pixdim: \")\n",
    "print(image_header['pixdim'])\n",
    "print(\"CAPTK mask affine: \")\n",
    "print(mask_captk_header['pixdim'])\n",
    "print(\"ITK mask affine: \")\n",
    "print(mask_itk_header['pixdim'])\n",
    "print(\"gandlf mask affine: \")\n",
    "print(mask_gandlf_header['pixdim'])"
   ]
  },
  {
   "cell_type": "code",
   "execution_count": 109,
   "metadata": {},
   "outputs": [
    {
     "name": "stdout",
     "output_type": "stream",
     "text": [
      "Image srow_x: \n",
      "[   2.9      0.001   -0.    -133.281]\n",
      "CAPTK srow_x: \n",
      "[0. 0. 0. 0.]\n",
      "ITK mask srow_x: \n",
      "[0. 0. 0. 0.]\n",
      "gandlf mask srow_x: \n",
      "[   2.9      0.001   -0.    -133.281]\n"
     ]
    }
   ],
   "source": [
    "print(\"Image srow_x: \")\n",
    "print(image_header['srow_x'])\n",
    "print(\"CAPTK srow_x: \")\n",
    "print(mask_captk_header['srow_x'])\n",
    "print(\"ITK mask srow_x: \")\n",
    "print(mask_itk_header['srow_x'])\n",
    "print(\"gandlf mask srow_x: \")\n",
    "print(mask_gandlf_header['srow_x'])"
   ]
  },
  {
   "cell_type": "code",
   "execution_count": 110,
   "metadata": {},
   "outputs": [
    {
     "name": "stdout",
     "output_type": "stream",
     "text": [
      "Image axes: \n",
      "('R', 'A', 'S')\n",
      "CAPTK mask axes: \n",
      "L\n",
      "ITK mask srow_x: \n",
      "('R', 'A', 'S')\n",
      "None\n",
      "gandlf axes: \n",
      "('R', 'A', 'S')\n",
      "None\n"
     ]
    }
   ],
   "source": [
    "print(\"Image axes: \")\n",
    "print(nib.aff2axcodes(image.affine))\n",
    "print(\"CAPTK mask axes: \")\n",
    "axs = nib.aff2axcodes(mask_captk.affine)\n",
    "print(axs[0])\n",
    "print(\"ITK mask srow_x: \")\n",
    "print(print(nib.aff2axcodes(mask_itk.affine)))\n",
    "print(\"gandlf axes: \")\n",
    "print(print(nib.aff2axcodes(mask_gandlf.affine)))"
   ]
  },
  {
   "cell_type": "code",
   "execution_count": 111,
   "metadata": {},
   "outputs": [],
   "source": [
    "# method 1\n",
    "def check_orientation(ct_image, ct_arr):\n",
    "    \"\"\"\n",
    "    Check the NIfTI orientation, and flip to  'RPS' if needed.\n",
    "    :param ct_image: NIfTI file\n",
    "    :param ct_arr: array file\n",
    "    :return: array after flipping\n",
    "    \"\"\"\n",
    "    x, y, z = nib.aff2axcodes(ct_image.affine)\n",
    "    if x != 'L':\n",
    "        ct_arr = np.flip(ct_arr, axis=0)\n",
    "    if y != 'P':\n",
    "        ct_arr = np.flip(ct_arr, axis=1)\n",
    "    if z != 'S':\n",
    "        ct_arr = np.flip(ct_arr, axis=2)\n",
    "    return ct_arr\n",
    "\n",
    "mask_itk_np_reorient = check_orientation(mask_itk, mask_itk_np)\n",
    "new_nifti = nib.Nifti1Image(mask_itk_np_reorient.astype(np.float64), mask_captk.affine, mask_captk.header)\n",
    "new_nifti.to_filename('Z:/home/majumdes/Datasets/Prospective_PPG/affine_testing/1569365/new_itksnap_flipped.nii.gz')\n",
    "\n",
    "mask_gandlf_np_reorient = check_orientation(mask_gandlf, mask_gandlf_np)\n",
    "new_nifti = nib.Nifti1Image(mask_gandlf_np_reorient.astype(np.float64), mask_captk.affine, mask_captk.header)\n",
    "new_nifti.to_filename('Z:/home/majumdes/Datasets/Prospective_PPG/affine_testing/1569365/new_gandlf_flipped.nii.gz')"
   ]
  },
  {
   "cell_type": "code",
   "execution_count": 112,
   "metadata": {},
   "outputs": [
    {
     "name": "stdout",
     "output_type": "stream",
     "text": [
      "CAPTK mask axes: \n",
      "[[ 0. -1.]\n",
      " [ 1. -1.]\n",
      " [ 2.  1.]]\n",
      "ITK mask axes: \n",
      "[[0. 1.]\n",
      " [1. 1.]\n",
      " [2. 1.]]\n"
     ]
    }
   ],
   "source": [
    "# method 2\n",
    "\n",
    "print(\"CAPTK mask axes: \")\n",
    "print(nib.orientations.axcodes2ornt(nib.aff2axcodes(mask_captk.affine), labels=None))\n",
    "print(\"ITK mask axes: \")\n",
    "print(nib.orientations.axcodes2ornt(nib.aff2axcodes(mask_itk.affine), labels=None))\n",
    "\n",
    "ornt = np.array([[0, -1],\n",
    "                [1, -1],\n",
    "                [2, 1]])\n",
    "\n",
    "# itk\n",
    "itk_orient = mask_itk.as_reoriented(ornt)\n",
    "flipped_affine_itk = A @ mask_itk.affine\n",
    "itk_orient_copy = nib.Nifti1Image(itk_orient.dataobj, flipped_affine_itk, itk_orient.header) \n",
    "itk_orient_copy.to_filename('Z:/home/majumdes/Datasets/Prospective_PPG/affine_testing/1569365/new_itk_flipped2.nii.gz')\n",
    "\n",
    "# gandlf\n",
    "gandlf_orient = mask_gandlf.as_reoriented(ornt)\n",
    "flipped_affine_gandlf = A @ mask_gandlf.affine\n",
    "gandlf_orient_copy = nib.Nifti1Image(gandlf_orient.dataobj, flipped_affine_gandlf, gandlf_orient.header) \n",
    "gandlf_orient_copy.to_filename('Z:/home/majumdes/Datasets/Prospective_PPG/affine_testing/1569365/new_gandlf_flipped2.nii.gz')"
   ]
  },
  {
   "cell_type": "code",
   "execution_count": null,
   "metadata": {},
   "outputs": [],
   "source": []
  }
 ],
 "metadata": {
  "kernelspec": {
   "display_name": "Python 3 (ipykernel)",
   "language": "python",
   "name": "python3"
  },
  "language_info": {
   "codemirror_mode": {
    "name": "ipython",
    "version": 3
   },
   "file_extension": ".py",
   "mimetype": "text/x-python",
   "name": "python",
   "nbconvert_exporter": "python",
   "pygments_lexer": "ipython3",
   "version": "3.10.11"
  }
 },
 "nbformat": 4,
 "nbformat_minor": 2
}
